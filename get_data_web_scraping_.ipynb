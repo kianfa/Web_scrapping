{
  "cells": [
    {
      "cell_type": "markdown",
      "metadata": {
        "colab_type": "text",
        "id": "view-in-github"
      },
      "source": [
        "<a href=\"https://colab.research.google.com/github/kianfa/Webs_scrapping/blob/main/get_data_web_scraping_.ipynb\" target=\"_parent\"><img src=\"https://colab.research.google.com/assets/colab-badge.svg\" alt=\"Open In Colab\"/></a>"
      ]
    },
    {
      "cell_type": "code",
      "execution_count": 10,
      "metadata": {
        "id": "yE_YL8EDB3IK"
      },
      "outputs": [],
      "source": [
        "import os\n",
        "import re\n",
        "import requests\n",
        "from bs4 import BeautifulSoup"
      ]
    },
    {
      "cell_type": "markdown",
      "metadata": {
        "id": "pbeH3qfeGy8p"
      },
      "source": [
        "# Get data from website"
      ]
    },
    {
      "cell_type": "code",
      "execution_count": 13,
      "metadata": {
        "id": "47qnn0uPB076"
      },
      "outputs": [],
      "source": [
        "url = 'https://bitinfocharts.com/comparison/bitcoin-hashrate.html#1y'\n",
        "response = requests.get(url)\n",
        "soup = BeautifulSoup(response.text,'lxml')\n",
        "script_tag = soup.findAll('script')[5]\n",
        "script_text = script_tag.text\n",
        "alltext = str(soup)"
      ]
    },
    {
      "cell_type": "code",
      "execution_count": 14,
      "metadata": {
        "id": "vE6suBofe5et"
      },
      "outputs": [],
      "source": [
        "words = alltext.split(',')\n",
        "index = alltext.index(\"[[new Date(\")\n",
        "indexend  = alltext.index(\", {labels:\")\n",
        "datesANDhashes = alltext[index+1:indexend]\n",
        "datesANDhashes = datesANDhashes[:-1]\n"
      ]
    },
    {
      "cell_type": "code",
      "execution_count": 16,
      "metadata": {
        "id": "rHq1YWIUiyX1"
      },
      "outputs": [],
      "source": [
        "mylist =datesANDhashes.replace('[' , ' ').replace(']' , ' ').replace('new Date(\"' ,'').replace('\")'  , \"\" ).split(' , ') ;"
      ]
    },
    {
      "cell_type": "code",
      "execution_count": 8,
      "metadata": {
        "id": "bGLFT5v-l_wb"
      },
      "outputs": [],
      "source": [
        "hashrates = [];\n",
        "for i in range(len(mylist)-1, 0, -1):\n",
        "  Date , amount = mylist[i].split(\",\")\n",
        "  hashrates.append([Date , amount])"
      ]
    },
    {
      "cell_type": "code",
      "execution_count": 15,
      "metadata": {
        "colab": {
          "base_uri": "https://localhost:8080/"
        },
        "id": "4TnruY0_F3aJ",
        "outputId": "30ab1dde-11ba-497b-ad59-e3c545d68a29"
      },
      "outputs": [
        {
          "name": "stdout",
          "output_type": "stream",
          "text": [
            "[['2023/07/04', '3.4273733052633E+20 '], ['2023/07/03', '4.0265725243266E+20'], ['2023/07/02', '3.7505349529399E+20'], ['2023/07/01', '3.5399005039124E+20'], ['2023/06/30', '4.0247809555826E+20'], ['2023/06/29', '3.1169278622675E+20'], ['2023/06/28', '3.2319426001195E+20'], ['2023/06/27', '3.808264145264E+20'], ['2023/06/26', '4.0051442764586E+20'], ['2023/06/25', '3.7179406475248E+20']]\n"
          ]
        }
      ],
      "source": [
        "print(hashrates[:10])"
      ]
    },
    {
      "attachments": {},
      "cell_type": "markdown",
      "metadata": {},
      "source": [
        "# Save in sheet"
      ]
    },
    {
      "cell_type": "code",
      "execution_count": null,
      "metadata": {
        "colab": {
          "background_save": true,
          "base_uri": "https://localhost:8080/"
        },
        "id": "EKq2MKq2zjpV",
        "outputId": "09fd6a12-e66b-4309-c6fe-fcb08c1edc3d"
      },
      "outputs": [
        {
          "name": "stdout",
          "output_type": "stream",
          "text": [
            "Looking in indexes: https://pypi.org/simple, https://us-python.pkg.dev/colab-wheels/public/simple/\n",
            "Requirement already satisfied: gspread in /usr/local/lib/python3.7/dist-packages (3.4.2)\n",
            "Requirement already satisfied: requests>=2.2.1 in /usr/local/lib/python3.7/dist-packages (from gspread) (2.23.0)\n",
            "Requirement already satisfied: google-auth in /usr/local/lib/python3.7/dist-packages (from gspread) (1.35.0)\n",
            "Requirement already satisfied: urllib3!=1.25.0,!=1.25.1,<1.26,>=1.21.1 in /usr/local/lib/python3.7/dist-packages (from requests>=2.2.1->gspread) (1.24.3)\n",
            "Requirement already satisfied: chardet<4,>=3.0.2 in /usr/local/lib/python3.7/dist-packages (from requests>=2.2.1->gspread) (3.0.4)\n",
            "Requirement already satisfied: certifi>=2017.4.17 in /usr/local/lib/python3.7/dist-packages (from requests>=2.2.1->gspread) (2022.6.15)\n",
            "Requirement already satisfied: idna<3,>=2.5 in /usr/local/lib/python3.7/dist-packages (from requests>=2.2.1->gspread) (2.10)\n",
            "Requirement already satisfied: cachetools<5.0,>=2.0.0 in /usr/local/lib/python3.7/dist-packages (from google-auth->gspread) (4.2.4)\n",
            "Requirement already satisfied: pyasn1-modules>=0.2.1 in /usr/local/lib/python3.7/dist-packages (from google-auth->gspread) (0.2.8)\n",
            "Requirement already satisfied: rsa<5,>=3.1.4 in /usr/local/lib/python3.7/dist-packages (from google-auth->gspread) (4.9)\n",
            "Requirement already satisfied: setuptools>=40.3.0 in /usr/local/lib/python3.7/dist-packages (from google-auth->gspread) (57.4.0)\n",
            "Requirement already satisfied: six>=1.9.0 in /usr/local/lib/python3.7/dist-packages (from google-auth->gspread) (1.15.0)\n",
            "Requirement already satisfied: pyasn1<0.5.0,>=0.4.6 in /usr/local/lib/python3.7/dist-packages (from pyasn1-modules>=0.2.1->google-auth->gspread) (0.4.8)\n"
          ]
        }
      ],
      "source": [
        "!pip install gspread\n",
        "\n",
        "import gspread\n",
        "import pandas as pd\n",
        "\n",
        "# Auth\n",
        "from google.colab import auth\n",
        "auth.authenticate_user()\n",
        "\n",
        "import gspread\n",
        "from google.auth import default\n",
        "creds, _ = default()\n",
        "\n",
        "gc = gspread.authorize(creds)\n",
        "\n",
        "sh = gc.create('PROJECT2')\n"
      ]
    },
    {
      "cell_type": "code",
      "execution_count": null,
      "metadata": {
        "colab": {
          "base_uri": "https://localhost:8080/"
        },
        "id": "hH_7myui3Z-s",
        "outputId": "062918ca-9662-451c-e354-5f93469e71e8"
      },
      "outputs": [
        {
          "data": {
            "text/plain": [
              "{'spreadsheetId': '10WRJECyeq3iXuwsoe9zmET-ai_X2rQSVn-tynL-Xizw',\n",
              " 'updatedRange': 'Sheet1!L1:L365',\n",
              " 'updatedRows': 365,\n",
              " 'updatedColumns': 1,\n",
              " 'updatedCells': 365}"
            ]
          },
          "execution_count": 80,
          "metadata": {},
          "output_type": "execute_result"
        }
      ],
      "source": [
        "\n",
        "# Open our new sheet and add some data.\n",
        "worksheet = gc.open('PROJECT3').sheet1\n",
        "#last 3 years \n",
        "end=str(365*3);\n",
        "cell_list = worksheet.range('A1:A'+end)\n",
        "cell_list1 =  worksheet.range('B1:B'+end)\n",
        "\n",
        "\n",
        "for cell in cell_list:\n",
        "  cell.value = hashrates[cell.row-1][0]\n",
        "\n",
        "for cell in cell_list1:\n",
        "\n",
        "  cell.value = hashrates[cell.row-1][1]\n",
        "\n",
        "worksheet.update_cells(cell_list)\n",
        "worksheet.update_cells(cell_list1)"
      ]
    }
  ],
  "metadata": {
    "colab": {
      "authorship_tag": "ABX9TyPnlev6CcHfdzF3dnZYya1l",
      "include_colab_link": true,
      "provenance": []
    },
    "kernelspec": {
      "display_name": "Python 3",
      "name": "python3"
    },
    "language_info": {
      "name": "python"
    }
  },
  "nbformat": 4,
  "nbformat_minor": 0
}
